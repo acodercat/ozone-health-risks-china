{
 "cells": [
  {
   "cell_type": "code",
   "execution_count": 1,
   "metadata": {},
   "outputs": [],
   "source": [
    "import pandas as pd\n",
    "import os\n",
    "from sklearn.model_selection import train_test_split, cross_val_score\n",
    "from sklearn.metrics import mean_squared_error, mean_absolute_error, r2_score\n",
    "import numpy as np\n",
    "\n",
    "feature_list = ['lat', 'lon',\n",
    "                        'TMP_P0_L1_GLL0', 'SPFH_P0_2L108_GLL0', 'RH_P0_L4_GLL0',\n",
    "                        'PWAT_P0_L200_GLL0', 'UGRD_P0_L6_GLL0', 'GUST_P0_L1_GLL0',\n",
    "                        'PRES_P0_L7_GLL0', 'CultivatedLand', 'WoodLand', 'GrassLand', 'Waters',\n",
    "                        'UrbanRural', 'UnusedLand', 'Ocean', 'ELEVATION', 'AOD', 'month',\n",
    "                        'year', 'weekday']\n",
    "label_name = 'o3'"
   ]
  },
  {
   "cell_type": "code",
   "execution_count": 2,
   "metadata": {},
   "outputs": [],
   "source": [
    "from sklearn.preprocessing import MinMaxScaler\n",
    "train = pd.read_csv('day\\\\train_set_daily_new.csv')\n",
    "test = pd.read_csv('day\\\\test_set_daily_new.csv')\n",
    "X_train, y_train, X_test, y_test = train[feature_list], train[label_name],test[feature_list],test[label_name]\n",
    "X_train = pd.get_dummies(X_train,columns = ['month','year','weekday'],drop_first=True)\n",
    "X_test = pd.get_dummies(X_test,columns = ['month','year','weekday'],drop_first=True)\n"
   ]
  },
  {
   "cell_type": "code",
   "execution_count": 3,
   "metadata": {},
   "outputs": [],
   "source": [
    "import torch\n",
    "import torch.nn as nn\n",
    "import torch.nn.functional as F\n",
    "import joblib\n",
    "\n",
    "scaler = MinMaxScaler()\n",
    "X_train = scaler.fit_transform(X_train)\n",
    "X_test = scaler.transform(X_test)\n",
    "joblib.dump(scaler,'scaler.joblib')\n",
    "X_train_tensor = torch.tensor(X_train,dtype = torch.float32)\n",
    "X_test_tensor = torch.tensor(X_test,dtype = torch.float32)"
   ]
  },
  {
   "cell_type": "code",
   "execution_count": 4,
   "metadata": {},
   "outputs": [],
   "source": [
    "class Mynet(nn.Module):\n",
    "    def __init__(self,input_size,hidden1,hidden2,hidden3,hidden4,output_size,dropout_prob):\n",
    "        super(Mynet,self).__init__()\n",
    "        self.fc1 = nn.Linear(input_size,hidden1)\n",
    "        self.bn1 = nn.BatchNorm1d(hidden1)\n",
    "        self.fc2 = nn.Linear(hidden1,hidden2)\n",
    "        self.bn2 = nn.BatchNorm1d(hidden2)\n",
    "        self.dropout = nn.Dropout(dropout_prob)\n",
    "        self.fc3 = nn.Linear(hidden2,hidden3)\n",
    "        self.bn3 = nn.BatchNorm1d(hidden3)\n",
    "        self.fc4 = nn.Linear(hidden3,hidden4)\n",
    "        self.fc5 = nn.Linear(hidden4,output_size)\n",
    "    def forward(self,x):\n",
    "        x = self.fc1(x)\n",
    "        feature1 = x\n",
    "        x = self.bn1(x)\n",
    "        x = F.relu(x)\n",
    "    \n",
    "        x = self.dropout(x)\n",
    "        x = self.fc2(x)\n",
    "        feature2 = x\n",
    "        x = self.bn2(x)\n",
    "        x = F.relu(x)\n",
    "        x = self.dropout(x)\n",
    "        x = self.fc3(x)\n",
    "        feature3 = x\n",
    "        x = self.bn3(x)\n",
    "        x = F.relu(x)\n",
    "        x = self.fc4(x)\n",
    "        feature4 = x\n",
    "        x = F.relu(x)\n",
    "        out = self.fc5(x)\n",
    "        return out,feature1,feature2,feature3,feature4\n",
    "\n",
    "\n",
    "model = torch.load('day\\\\NN5.pth').to('cpu')"
   ]
  },
  {
   "cell_type": "code",
   "execution_count": 5,
   "metadata": {},
   "outputs": [
    {
     "data": {
      "text/plain": [
       "Mynet(\n",
       "  (fc1): Linear(in_features=37, out_features=1680, bias=True)\n",
       "  (bn1): BatchNorm1d(1680, eps=1e-05, momentum=0.1, affine=True, track_running_stats=True)\n",
       "  (fc2): Linear(in_features=1680, out_features=2560, bias=True)\n",
       "  (bn2): BatchNorm1d(2560, eps=1e-05, momentum=0.1, affine=True, track_running_stats=True)\n",
       "  (dropout): Dropout(p=0.2, inplace=False)\n",
       "  (fc3): Linear(in_features=2560, out_features=128, bias=True)\n",
       "  (bn3): BatchNorm1d(128, eps=1e-05, momentum=0.1, affine=True, track_running_stats=True)\n",
       "  (fc4): Linear(in_features=128, out_features=64, bias=True)\n",
       "  (fc5): Linear(in_features=64, out_features=1, bias=True)\n",
       ")"
      ]
     },
     "execution_count": 5,
     "metadata": {},
     "output_type": "execute_result"
    }
   ],
   "source": [
    "model"
   ]
  },
  {
   "cell_type": "code",
   "execution_count": 6,
   "metadata": {},
   "outputs": [],
   "source": [
    "X_train_transfered = model(X_train_tensor)[3]# the size of new feature is 256\n",
    "X_test_transfered = model(X_test_tensor)[3]"
   ]
  },
  {
   "cell_type": "code",
   "execution_count": 7,
   "metadata": {},
   "outputs": [],
   "source": [
    "\n",
    "X_train_transfered_numpy = X_train_transfered.detach().numpy()\n",
    "X_test_transfered_numpy = X_test_transfered.detach().numpy()"
   ]
  },
  {
   "cell_type": "code",
   "execution_count": 8,
   "metadata": {},
   "outputs": [],
   "source": [
    "import lightgbm as lgb\n",
    "\n",
    "params = {\n",
    "    'boosting_type': 'gbdt',\n",
    "    'objective': 'regression',\n",
    "    'metric': 'rmse',\n",
    "    'device': 'gpu',  # Enable GPU training\n",
    "    'gpu_platform_id': 0,  # Use the first GPU\n",
    "    'gpu_device_id': 0,\n",
    "    'num_leaves': 1500,\n",
    "    'max_depth': 20,\n",
    "    'learning_rate': 0.05,\n",
    "    'feature_fraction': 0.9,\n",
    "    'bagging_fraction': 0.8,\n",
    "    'bagging_freq': 5,\n",
    "    'verbose': -1\n",
    "}\n",
    "\n",
    "# Create a LightGBM dataset\n",
    "train_data = lgb.Dataset(X_train_transfered_numpy, label=y_train)\n",
    "\n",
    "# Train the model\n",
    "num_rounds = 800\n",
    "lgb_model = lgb.train(params, train_data, num_rounds)"
   ]
  },
  {
   "cell_type": "code",
   "execution_count": 9,
   "metadata": {},
   "outputs": [
    {
     "data": {
      "text/plain": [
       "<lightgbm.basic.Booster at 0x2c52a00da80>"
      ]
     },
     "execution_count": 9,
     "metadata": {},
     "output_type": "execute_result"
    }
   ],
   "source": [
    "lgb_model.save_model('model.txt')"
   ]
  },
  {
   "cell_type": "code",
   "execution_count": 16,
   "metadata": {},
   "outputs": [
    {
     "name": "stdout",
     "output_type": "stream",
     "text": [
      "RMSE: 12.63556805891459\n",
      "SMAPE: 17.782834952700433\n",
      "MAE: 9.43022060572622\n",
      "R2: 0.801388349631664\n",
      "confidence 0.6357063236224505\n"
     ]
    }
   ],
   "source": [
    "lgb_model = lgb.Booster(model_file='model.txt')\n",
    "y_pred = lgb_model.predict(X_test_transfered_numpy)\n",
    "\n",
    "#y_test = y_test.to_numpy()\n",
    "rmse = np.sqrt(mean_squared_error(y_test, y_pred))\n",
    "smape = np.mean(2 * np.abs(y_pred - y_test) / (np.abs(y_pred) + np.abs(y_test))) * 100\n",
    "mae = mean_absolute_error(y_test, y_pred)\n",
    "r2 = r2_score(y_test, y_pred)\n",
    "\n",
    "from confidence import confidence\n",
    "conf = confidence(y_test,y_pred,10)\n",
    "\n",
    "print(\"RMSE:\", rmse)\n",
    "print(\"SMAPE:\", smape)\n",
    "print(\"MAE:\", mae)\n",
    "print(\"R2:\", r2)\n",
    "print('confidence',conf)"
   ]
  },
  {
   "cell_type": "code",
   "execution_count": 12,
   "metadata": {},
   "outputs": [
    {
     "name": "stderr",
     "output_type": "stream",
     "text": [
      "C:\\Users\\Carlos\\AppData\\Local\\Temp\\ipykernel_7184\\3289939180.py:3: UserWarning: \n",
      "\n",
      "`distplot` is a deprecated function and will be removed in seaborn v0.14.0.\n",
      "\n",
      "Please adapt your code to use either `displot` (a figure-level function with\n",
      "similar flexibility) or `histplot` (an axes-level function for histograms).\n",
      "\n",
      "For a guide to updating your code to use the new functions, please see\n",
      "https://gist.github.com/mwaskom/de44147ed2974457ad6372750bbe5751\n",
      "\n",
      "  sns.distplot(abs(y_test-y_pred),\n"
     ]
    },
    {
     "data": {
      "text/plain": [
       "<Axes: ylabel='Density'>"
      ]
     },
     "execution_count": 12,
     "metadata": {},
     "output_type": "execute_result"
    },
    {
     "data": {
      "image/png": "[encoded data removed]",
      "text/plain": [
       "<Figure size 640x480 with 1 Axes>"
      ]
     },
     "metadata": {},
     "output_type": "display_data"
    }
   ],
   "source": [
    "import matplotlib.pyplot as plt\n",
    "import seaborn as sns\n",
    "sns.distplot(abs(y_test-y_pred), \n",
    "             bins=int(100), color = 'blue',\n",
    "             kde_kws={'linewidth': 2})"
   ]
  },
  {
   "cell_type": "code",
   "execution_count": 11,
   "metadata": {},
   "outputs": [],
   "source": [
    "a = pd.DataFrame({'actual':y_test,'pred':y_pred})\n",
    "a.to_csv('test_set_performance.csv')"
   ]
  }
 ],
 "metadata": {
  "kernelspec": {
   "display_name": "pt",
   "language": "python",
   "name": "python3"
  },
  "language_info": {
   "codemirror_mode": {
    "name": "ipython",
    "version": 3
   },
   "file_extension": ".py",
   "mimetype": "text/x-python",
   "name": "python",
   "nbconvert_exporter": "python",
   "pygments_lexer": "ipython3",
   "version": "3.10.11"
  },
  "orig_nbformat": 4
 },
 "nbformat": 4,
 "nbformat_minor": 2
}
